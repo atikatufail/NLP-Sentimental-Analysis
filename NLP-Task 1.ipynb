{
 "cells": [
  {
   "cell_type": "code",
   "execution_count": 2,
   "id": "4891cf40-6505-4393-8579-85882b5457c4",
   "metadata": {},
   "outputs": [
    {
     "name": "stderr",
     "output_type": "stream",
     "text": [
      "[nltk_data] Downloading package stopwords to\n",
      "[nltk_data]     C:\\Users\\CSC\\AppData\\Roaming\\nltk_data...\n",
      "[nltk_data]   Package stopwords is already up-to-date!\n"
     ]
    },
    {
     "data": {
      "text/plain": [
       "True"
      ]
     },
     "execution_count": 2,
     "metadata": {},
     "output_type": "execute_result"
    }
   ],
   "source": [
    "import pandas as pd\n",
    "import numpy as np\n",
    "import re\n",
    "from sklearn.model_selection import train_test_split\n",
    "from sklearn.feature_extraction.text import TfidfVectorizer\n",
    "from sklearn.linear_model import LogisticRegression\n",
    "from sklearn.metrics import classification_report, accuracy_score\n",
    "import nltk\n",
    "from nltk.corpus import stopwords\n",
    "nltk.download('stopwords')\n"
   ]
  },
  {
   "cell_type": "code",
   "execution_count": 3,
   "id": "ce92911e-41cc-4f2a-90bb-af40e9522bec",
   "metadata": {},
   "outputs": [
    {
     "name": "stdout",
     "output_type": "stream",
     "text": [
      "   product_id                                       product_name  \\\n",
      "0  B07JW9H4J1  Wayona Nylon Braided USB to Lightning Fast Cha...   \n",
      "1  B098NS6PVG  Ambrane Unbreakable 60W / 3A Fast Charging 1.5...   \n",
      "2  B096MSW6CT  Sounce Fast Phone Charging Cable & Data Sync U...   \n",
      "3  B08HDJ86NZ  boAt Deuce USB 300 2 in 1 Type-C & Micro USB S...   \n",
      "4  B08CF3B7N1  Portronics Konnect L 1.2M Fast Charging 3A 8 P...   \n",
      "\n",
      "                                            category discounted_price  \\\n",
      "0  Computers&Accessories|Accessories&Peripherals|...             ₹399   \n",
      "1  Computers&Accessories|Accessories&Peripherals|...             ₹199   \n",
      "2  Computers&Accessories|Accessories&Peripherals|...             ₹199   \n",
      "3  Computers&Accessories|Accessories&Peripherals|...             ₹329   \n",
      "4  Computers&Accessories|Accessories&Peripherals|...             ₹154   \n",
      "\n",
      "  actual_price discount_percentage rating rating_count  \\\n",
      "0       ₹1,099                 64%    4.2       24,269   \n",
      "1         ₹349                 43%    4.0       43,994   \n",
      "2       ₹1,899                 90%    3.9        7,928   \n",
      "3         ₹699                 53%    4.2       94,363   \n",
      "4         ₹399                 61%    4.2       16,905   \n",
      "\n",
      "                                       about_product  \\\n",
      "0  High Compatibility : Compatible With iPhone 12...   \n",
      "1  Compatible with all Type C enabled devices, be...   \n",
      "2  【 Fast Charger& Data Sync】-With built-in safet...   \n",
      "3  The boAt Deuce USB 300 2 in 1 cable is compati...   \n",
      "4  [CHARGE & SYNC FUNCTION]- This cable comes wit...   \n",
      "\n",
      "                                             user_id  \\\n",
      "0  AG3D6O4STAQKAY2UVGEUV46KN35Q,AHMY5CWJMMK5BJRBB...   \n",
      "1  AECPFYFQVRUWC3KGNLJIOREFP5LQ,AGYYVPDD7YG7FYNBX...   \n",
      "2  AGU3BBQ2V2DDAMOAKGFAWDDQ6QHA,AESFLDV2PT363T2AQ...   \n",
      "3  AEWAZDZZJLQUYVOVGBEUKSLXHQ5A,AG5HTSFRRE6NL3M5S...   \n",
      "4  AE3Q6KSUK5P75D5HFYHCRAOLODSA,AFUGIFH5ZAFXRDSZH...   \n",
      "\n",
      "                                           user_name  \\\n",
      "0  Manav,Adarsh gupta,Sundeep,S.Sayeed Ahmed,jasp...   \n",
      "1  ArdKn,Nirbhay kumar,Sagar Viswanathan,Asp,Plac...   \n",
      "2  Kunal,Himanshu,viswanath,sai niharka,saqib mal...   \n",
      "3  Omkar dhale,JD,HEMALATHA,Ajwadh a.,amar singh ...   \n",
      "4  rahuls6099,Swasat Borah,Ajay Wadke,Pranali,RVK...   \n",
      "\n",
      "                                           review_id  \\\n",
      "0  R3HXWT0LRP0NMF,R2AJM3LFTLZHFO,R6AQJGUP6P86,R1K...   \n",
      "1  RGIQEG07R9HS2,R1SMWZQ86XIN8U,R2J3Y1WL29GWDE,RY...   \n",
      "2  R3J3EQQ9TZI5ZJ,R3E7WBGK7ID0KV,RWU79XKQ6I1QF,R2...   \n",
      "3  R3EEUZKKK9J36I,R3HJVYCLYOY554,REDECAZ7AMPQC,R1...   \n",
      "4  R1BP4L2HH9TFUP,R16PVJEXKV6QZS,R2UPDB81N66T4P,R...   \n",
      "\n",
      "                                        review_title  \\\n",
      "0  Satisfied,Charging is really fast,Value for mo...   \n",
      "1  A Good Braided Cable for Your Type C Device,Go...   \n",
      "2  Good speed for earlier versions,Good Product,W...   \n",
      "3  Good product,Good one,Nice,Really nice product...   \n",
      "4  As good as original,Decent,Good one for second...   \n",
      "\n",
      "                                      review_content  \\\n",
      "0  Looks durable Charging is fine tooNo complains...   \n",
      "1  I ordered this cable to connect my phone to An...   \n",
      "2  Not quite durable and sturdy,https://m.media-a...   \n",
      "3  Good product,long wire,Charges good,Nice,I bou...   \n",
      "4  Bought this instead of original apple, does th...   \n",
      "\n",
      "                                            img_link  \\\n",
      "0  https://m.media-amazon.com/images/W/WEBP_40237...   \n",
      "1  https://m.media-amazon.com/images/W/WEBP_40237...   \n",
      "2  https://m.media-amazon.com/images/W/WEBP_40237...   \n",
      "3  https://m.media-amazon.com/images/I/41V5FtEWPk...   \n",
      "4  https://m.media-amazon.com/images/W/WEBP_40237...   \n",
      "\n",
      "                                        product_link  \n",
      "0  https://www.amazon.in/Wayona-Braided-WN3LG1-Sy...  \n",
      "1  https://www.amazon.in/Ambrane-Unbreakable-Char...  \n",
      "2  https://www.amazon.in/Sounce-iPhone-Charging-C...  \n",
      "3  https://www.amazon.in/Deuce-300-Resistant-Tang...  \n",
      "4  https://www.amazon.in/Portronics-Konnect-POR-1...  \n"
     ]
    }
   ],
   "source": [
    "df = pd.read_csv('amazon.csv')\n",
    "print(df.head())"
   ]
  },
  {
   "cell_type": "code",
   "execution_count": 4,
   "id": "c1881a9c-b18f-457c-9891-3c2ee3864772",
   "metadata": {},
   "outputs": [],
   "source": [
    "stop_words = set(stopwords.words('english'))"
   ]
  },
  {
   "cell_type": "code",
   "execution_count": 5,
   "id": "edae911d-829f-4cf1-85ec-73b080b682f7",
   "metadata": {},
   "outputs": [],
   "source": [
    "def clean_text(text):\n",
    "    text = text.lower()\n",
    "    text = re.sub(r'[a-zA-Z\\s]', '', text)\n",
    "    words = text.split()\n",
    "    words = [word for word in words if word not in stop_words]\n",
    "    return ' '.join(words)\n",
    "\n",
    "df['cleaned_review_content'] = df['review_content'].apply(clean_text)"
   ]
  },
  {
   "cell_type": "code",
   "execution_count": 6,
   "id": "e95b1790-059f-48cb-bfc9-742a09e7dae0",
   "metadata": {},
   "outputs": [],
   "source": [
    "df = df[pd.to_numeric(df['rating'], errors='coerce').notnull()] \n",
    "df['rating'] = df['rating'].astype(float)  \n",
    "df['label'] = df['rating'].apply(lambda x:1 if x>=4 else 0)\n",
    "vectorizer = TfidfVectorizer()\n",
    "X = vectorizer.fit_transform(df['cleaned_review_content'])\n",
    "y = df['label']\n",
    "X_train, X_test, y_train, y_test = train_test_split(X, y, test_size=0.2, random_state=42)"
   ]
  },
  {
   "cell_type": "code",
   "execution_count": 8,
   "id": "ab12fd03-ad6c-4984-b377-795d5aee80e0",
   "metadata": {},
   "outputs": [
    {
     "name": "stdout",
     "output_type": "stream",
     "text": [
      "['4.2' '4.0' '3.9' '4.1' '4.3' '4.4' '4.5' '3.7' '3.3' '3.6' '3.4' '3.8'\n",
      " '3.5' '4.6' '3.2' '5.0' '4.7' '3.0' '2.8' '4' '3.1' '4.8' '2.3' '|' '2'\n",
      " '3' '2.6' '2.9']\n"
     ]
    }
   ],
   "source": [
    "print(df['rating'].unique())"
   ]
  },
  {
   "cell_type": "code",
   "execution_count": 7,
   "id": "5fa2ffa0-a79b-49e8-b023-34aa1dbe3757",
   "metadata": {},
   "outputs": [
    {
     "name": "stdout",
     "output_type": "stream",
     "text": [
      "Accuracy:  0.6006825938566553\n",
      "Cllassification Report:                precision    recall  f1-score   support\n",
      "\n",
      "           0       0.35      0.69      0.47        74\n",
      "           1       0.84      0.57      0.68       219\n",
      "\n",
      "    accuracy                           0.60       293\n",
      "   macro avg       0.60      0.63      0.57       293\n",
      "weighted avg       0.72      0.60      0.63       293\n",
      "\n"
     ]
    }
   ],
   "source": [
    "model = LogisticRegression(class_weight='balanced')\n",
    "model.fit(X_train, y_train)\n",
    "y_pred = model.predict(X_test)\n",
    "print('Accuracy: ', accuracy_score(y_test, y_pred))\n",
    "print('Cllassification Report: ', classification_report(y_test, y_pred))"
   ]
  },
  {
   "cell_type": "markdown",
   "id": "00588d15-a82c-4c4e-ad32-ce6b21b892cc",
   "metadata": {},
   "source": [
    "# Bonus"
   ]
  },
  {
   "cell_type": "code",
   "execution_count": 9,
   "id": "06e2d262-70a0-470a-99a2-4e75a3e24277",
   "metadata": {},
   "outputs": [],
   "source": [
    "from sklearn.naive_bayes import MultinomialNB"
   ]
  },
  {
   "cell_type": "code",
   "execution_count": 13,
   "id": "e1d036db-d4c2-4648-b51c-a615b7b71d14",
   "metadata": {},
   "outputs": [
    {
     "name": "stdout",
     "output_type": "stream",
     "text": [
      "Accuracy:  0.7474402730375427\n",
      "              precision    recall  f1-score   support\n",
      "\n",
      "           0       0.50      0.01      0.03        74\n",
      "           1       0.75      1.00      0.85       219\n",
      "\n",
      "    accuracy                           0.75       293\n",
      "   macro avg       0.62      0.50      0.44       293\n",
      "weighted avg       0.69      0.75      0.65       293\n",
      "\n"
     ]
    }
   ],
   "source": [
    "modelNB = MultinomialNB()\n",
    "modelNB.fit(X_train, y_train)\n",
    "y_predict = modelNB.predict(X_test)\n",
    "print('Accuracy: ', accuracy_score(y_test, y_predict))\n",
    "print(classification_report(y_test, y_predict))"
   ]
  }
 ],
 "metadata": {
  "kernelspec": {
   "display_name": "Python 3 (ipykernel)",
   "language": "python",
   "name": "python3"
  },
  "language_info": {
   "codemirror_mode": {
    "name": "ipython",
    "version": 3
   },
   "file_extension": ".py",
   "mimetype": "text/x-python",
   "name": "python",
   "nbconvert_exporter": "python",
   "pygments_lexer": "ipython3",
   "version": "3.13.1"
  }
 },
 "nbformat": 4,
 "nbformat_minor": 5
}
